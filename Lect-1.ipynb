{
 "cells": [
  {
   "cell_type": "markdown",
   "metadata": {},
   "source": [
    "# Lecture 1\n",
    "\n",
    "(Summer 2023)\n",
    "\n",
    "## Outline of topics for this segment:\n",
    "\n",
    "1. Brief history of python\n",
    "2. Python's place in the family of programming languages\n",
    "3. Basic variables (integer, float, string)\n",
    "4. Conversions between the basic variable types\n",
    "5. Boolean variables\n",
    "6. \"Collection\" data types\n",
    "    * lists\n",
    "    * tuples\n",
    "    * sets\n",
    "    * dictionaries\n",
    "7. Operators\n",
    "8. Control statements\n",
    "9. Exercise: Setup Github ...\n",
    "10. Functions\n",
    "11. Exercise: Implement the Babylonian Algorithm\n",
    "12. Read the tutorial material on VS code installation"
   ]
  },
  {
   "cell_type": "markdown",
   "metadata": {},
   "source": [
    "## Some useful background material:\n",
    "\n",
    "The <a href=\"https://the-examples-book.com/book/introduction\" target=\"_blank\">Purdue Data Mine Examples Book</a> contains many useful chapters on data science. While they have not been directly designed for this class, they may be useful.\n",
    "\n",
    "\n",
    "## 1. History of Python, Etc.\n",
    "\n",
    "- Conceived by Guido van Rossum in December 1989 at the Center Wiskunde and Informatica (Dutch national research institute for mathematics and computer science).\n",
    "- Python version 1.0 in January 1994.\n",
    "- GNU General Public License (open source) since version 1.6.1.\n",
    "- Python version 2.0 in October 2000.\n",
    "- Python Software Foundation formed in 2001 and a new open source license.\n",
    "- Python version 2.7 was the last release in the version 2 series. Support ended January 2020.\n",
    "- Python version 3.0 released December 2008. It broke backward compatibility with much of the verson 2 code.\n",
    "- Latest version is 3.10.4 (March 2023)."
   ]
  },
  {
   "cell_type": "code",
   "execution_count": null,
   "metadata": {},
   "outputs": [],
   "source": [
    "# Check the version of python that we are running here ...\n",
    "\n",
    "!python -V"
   ]
  },
  {
   "cell_type": "markdown",
   "metadata": {},
   "source": [
    "## 2. Python's place in the family of programming languages\n",
    "\n",
    "### According to stackoverflow survey of professional software developers ...    \n",
    "\n",
    "<img align=\"left\" src='Figs/DeveloperSurvey2021.png' width=\"500\"/>    "
   ]
  },
  {
   "cell_type": "markdown",
   "metadata": {},
   "source": [
    "### As concerns languages for data science ...\n",
    "\n",
    "The contenders are Python and R. For **Python**\n",
    "\n",
    "* Most popular among data scientists.\n",
    "* Very useful in machine learning and artificial intelligence because of the availabilty of popular libraries such as scikit-learn, matplotlib, and tensorflow, etc.\n",
    "\n",
    "For **R**\n",
    "\n",
    "* A scripting language.\n",
    "* Very good support for statistical computation and visulalization.\n",
    "\n",
    "This course is focussed on Python instead of R because that is a better for the work of my research group. For an independent comparison of the two: <a href=\"https://www.ibm.com/cloud/blog/python-vs-r\" target=\"_blank\">Python vs. R: What's the Difference?</a>\n",
    "\n",
    "\n",
    "## 3. Basic Variables\n",
    "\n",
    "Python uses something called **dynamic typing**, which means that a variable is created when a value is assigned to it. The type can be changed after originally set. There are a few rules on variable names:\n",
    "\n",
    "* Must start with a letter or underscore\n",
    "* Names are case-sensitive\n",
    "\n",
    "A python variable is more than just its value. It must also contain information about the type of the value. There is overhead associated with such flexibility. The code below illustrates three of the variable types: **integer, float, and string**."
   ]
  },
  {
   "cell_type": "code",
   "execution_count": null,
   "metadata": {},
   "outputs": [],
   "source": [
    "# Integer, i.e., whole numbers both positive and negative. Later on \n",
    "# we will illustrate formatting the print command.\n",
    "\n",
    "x = 4; #This statement creates a variable 'x' of type integer and assigns the value 4\n",
    "\n",
    "# The following statements are used to illustrate Python's print() command and how it\n",
    "# tells the user the type of a variable, its value, etc.\n",
    "\n",
    "print('The type of x is:')\n",
    "print(type(x))\n",
    "print() # Just to give a space.\n",
    "print('The value of x is:')\n",
    "print(x)"
   ]
  },
  {
   "cell_type": "code",
   "execution_count": null,
   "metadata": {},
   "outputs": [],
   "source": [
    "# Floating point, i.e., computer representation of real numbers.\n",
    "\n",
    "x = 4.0; #This statement creates a variable 'x' of floating point type and assigns the value 4.0\n",
    "\n",
    "print('The type of x is:')\n",
    "print(type(x))\n",
    "print() # Just to give a space.\n",
    "print('The value of x is:')\n",
    "print(x)"
   ]
  },
  {
   "cell_type": "code",
   "execution_count": null,
   "metadata": {},
   "outputs": [],
   "source": [
    "# Strings. A string is a sequence of characters. They can be delimited\n",
    "# by single quotes ('blah') or double quotes (\"blah blah\")\n",
    "\n",
    "x = \"four\" #This statement creates a variable 'x' of type string and assigns the value \"four\"\n",
    "\n",
    "print('The type of x is:')\n",
    "print(type(x))\n",
    "print() # Just to give a space.\n",
    "print('The value of x is:')\n",
    "print(x)"
   ]
  },
  {
   "cell_type": "code",
   "execution_count": null,
   "metadata": {},
   "outputs": [],
   "source": [
    "# Compare how the Python interpreter shows the value of a variable with, or without using\n",
    "# the built-in print command\n",
    "\n",
    "x[3]\n",
    "x"
   ]
  },
  {
   "cell_type": "markdown",
   "metadata": {},
   "source": [
    "## 4. Conversions\n",
    "Python has a built-in command `float()` that can convert integers and certain strings to floating point numbers."
   ]
  },
  {
   "cell_type": "code",
   "execution_count": null,
   "metadata": {},
   "outputs": [],
   "source": [
    "# Start with an int.\n",
    "\n",
    "x = 4;\n",
    "\n",
    "print('The type of x is:')\n",
    "print(type(x))\n",
    "print()\n",
    "print('The value of x is:')\n",
    "print(x)"
   ]
  },
  {
   "cell_type": "code",
   "execution_count": null,
   "metadata": {},
   "outputs": [],
   "source": [
    "# Convert to float\n",
    "\n",
    "x = float(x)\n",
    "\n",
    "print('The type of x is:')\n",
    "print(type(x))\n",
    "print()\n",
    "print('The value of x is:')\n",
    "print(x)"
   ]
  },
  {
   "cell_type": "code",
   "execution_count": null,
   "metadata": {},
   "outputs": [],
   "source": [
    "# Can also convert strings representing floating point numbers to\n",
    "# float.\n",
    "\n",
    "x = '1.67'\n",
    "\n",
    "print('The type of x is:')\n",
    "print(type(x))\n",
    "print()\n",
    "print('The value of x is:')\n",
    "print(x)"
   ]
  },
  {
   "cell_type": "code",
   "execution_count": null,
   "metadata": {},
   "outputs": [],
   "source": [
    "# Note that when we print the string version of x it prints it just\n",
    "# as if it were a floating point number, i.e., we can't tell from the\n",
    "# output.\n",
    "\n",
    "x = float(x)\n",
    "\n",
    "print('The type of x is:')\n",
    "print(type(x))\n",
    "print()\n",
    "print('The value of x is:')\n",
    "print(x)"
   ]
  },
  {
   "cell_type": "markdown",
   "metadata": {},
   "source": [
    "There is also a python command `int()`, which can covert floats to integer and certain strings to integer, and a command `str()`, which converts numbers to strings. It might be wise to experiment with them ...\n",
    "\n",
    "## 5. Boolean type\n",
    "A Boolean value has a python type **bool**. The possible values a Boolean variable can take are: **True** and **False**. These are typically used to hold the results of logical tests, which in turn can be used to control the flow of a python program."
   ]
  },
  {
   "cell_type": "code",
   "execution_count": null,
   "metadata": {},
   "outputs": [],
   "source": [
    "x = True;\n",
    "\n",
    "print('The type of x is:')\n",
    "print(type(x))\n",
    "print()\n",
    "print('The value of x is:')\n",
    "print(x)"
   ]
  },
  {
   "cell_type": "markdown",
   "metadata": {},
   "source": [
    "## 6. Collection Data Types\n",
    "There are four **collection** data types: **lists**, **tuples**, **sets**, and **dictionaries**. (Some say that a **string** is a collection data type since it is a ordered set of characters --- more later).\n",
    "\n",
    "### A. <u>Lists</u> are ordered, changeable, and allow duplicate members:"
   ]
  },
  {
   "cell_type": "code",
   "execution_count": null,
   "metadata": {},
   "outputs": [],
   "source": [
    "# Create a list with 5 elements.\n",
    "\n",
    "Coloradothings = [\"wheat\", \"corn\", \"sugar beets\", \"pinto beans\", 1959]\n",
    "\n",
    "print('The type of Coloradothings is:')\n",
    "print(type(Coloradothings))"
   ]
  },
  {
   "cell_type": "code",
   "execution_count": null,
   "metadata": {},
   "outputs": [],
   "source": [
    "print('The length of Coloradothings is:')\n",
    "print(len(Coloradothings)) #Notice our use of the built-in python function 'len()'"
   ]
  },
  {
   "cell_type": "code",
   "execution_count": null,
   "metadata": {},
   "outputs": [],
   "source": [
    "print('The value of Coloradothings is:')\n",
    "print(Coloradothings)"
   ]
  },
  {
   "cell_type": "code",
   "execution_count": null,
   "metadata": {},
   "outputs": [],
   "source": [
    "# The elements inside of Coloradothings may be of differing\n",
    "# types ...\n",
    "\n",
    "print('For Coloradothings[3] ...')\n",
    "print(Coloradothings[3])\n",
    "print(type(Coloradothings[3]))\n",
    "print()\n",
    "print('For Coloradothings[4] ...')\n",
    "print(Coloradothings[4])\n",
    "print(type(Coloradothings[4]))"
   ]
  },
  {
   "cell_type": "code",
   "execution_count": null,
   "metadata": {},
   "outputs": [],
   "source": [
    "Coloradothings[0]"
   ]
  },
  {
   "cell_type": "code",
   "execution_count": null,
   "metadata": {},
   "outputs": [],
   "source": [
    "# We can append to a list and insert in a list. These particular functions are called 'methods' in\n",
    "# python. Different sorts of objects have particular methods that work for them.\n",
    "\n",
    "# The append method ...\n",
    "\n",
    "Coloradothings.append(\"Amherst\")\n",
    "print(Coloradothings)"
   ]
  },
  {
   "cell_type": "code",
   "execution_count": null,
   "metadata": {},
   "outputs": [],
   "source": [
    "# The insert method ...\n",
    "\n",
    "Coloradothings.insert(2, \"sunflowers\")\n",
    "print(Coloradothings)"
   ]
  },
  {
   "cell_type": "markdown",
   "metadata": {},
   "source": [
    "### B. <u>Tuples</u> are ordered, unchangeable, and allow duplicate members."
   ]
  },
  {
   "cell_type": "code",
   "execution_count": null,
   "metadata": {},
   "outputs": [],
   "source": [
    "# Make a tuple.\n",
    "\n",
    "Indianathings = (\"Basketball\", \"Corn\")\n",
    "\n",
    "print(type(Indianathings))\n",
    "print()\n",
    "print(Indianathings)"
   ]
  },
  {
   "cell_type": "code",
   "execution_count": null,
   "metadata": {},
   "outputs": [],
   "source": [
    "# This command will yield an error because append is NOT an allowable method\n",
    "# for tuples ...\n",
    "\n",
    "Indianathings.append(\"Wall street\")"
   ]
  },
  {
   "cell_type": "markdown",
   "metadata": {},
   "source": [
    "Tuples can contain a single item but to do this we must specify them with a comma after the first and only element, e.g., `Indianathings = (\"Basketball\")` is not a tuple (it's a string), while `Indianathings = (\"Basketball\",)` is a tuple.\n",
    "\n",
    "Tuples **cannot** be changed. For example, if Indianathings is a tuple then `Indianathings.append(\"Wall street\")` will cause an error.\n",
    "\n",
    "### 3. <u>Sets</u> are unordered, changeable (in the sense that we can add and remove items from sets). Sets do not allow duplicates."
   ]
  },
  {
   "cell_type": "code",
   "execution_count": null,
   "metadata": {},
   "outputs": [],
   "source": [
    "# Make a set.\n",
    "\n",
    "Purduethings = {\"Ag and Bio Engineering\", \"Ross-Ade Stadium\", \"students\", \"professors\", \"Gene Keady\", \"study sessions\"}\n",
    "\n",
    "Purduethings"
   ]
  },
  {
   "cell_type": "code",
   "execution_count": null,
   "metadata": {},
   "outputs": [],
   "source": [
    "print(type(Purduethings))\n",
    "print()\n",
    "print(Purduethings) # Note the order it prints"
   ]
  },
  {
   "cell_type": "code",
   "execution_count": null,
   "metadata": {},
   "outputs": [],
   "source": [
    "# Tests producing Boolean values ...\n",
    "\n",
    "print(\"Ag and Bio Engineering\" in Purduethings)"
   ]
  },
  {
   "cell_type": "code",
   "execution_count": null,
   "metadata": {},
   "outputs": [],
   "source": [
    "print(\"Medical School\" in Purduethings)"
   ]
  },
  {
   "cell_type": "code",
   "execution_count": null,
   "metadata": {},
   "outputs": [],
   "source": [
    "print(\"Gene Cernan\" in Purduethings)"
   ]
  },
  {
   "cell_type": "code",
   "execution_count": null,
   "metadata": {},
   "outputs": [],
   "source": [
    "print({\"Gene Cernan\",}.issubset(Purduethings))"
   ]
  },
  {
   "cell_type": "code",
   "execution_count": null,
   "metadata": {},
   "outputs": [],
   "source": [
    "Purduethings.add(\"Gene Cernan\")\n",
    "print({\"Gene Cernan\",}.issubset(Purduethings))"
   ]
  },
  {
   "cell_type": "markdown",
   "metadata": {},
   "source": [
    "From the code output above we note:\n",
    "1. The order in which we included the set items when defining it is not the order that python used to enumerate the items when printing. Just FYI.\n",
    "2. The statement in the last print command: `\"Ag and Bio Engineering\" in Purduethings` is a Boolean variable.\n",
    "\n",
    "We can perform classical set operations via the methods ... (**union**, **intersection**, **difference**, **test subset**):"
   ]
  },
  {
   "cell_type": "code",
   "execution_count": null,
   "metadata": {},
   "outputs": [],
   "source": [
    "# Make another set ...\n",
    "\n",
    "IUthings = {\"Hoosiers\", \"Bobby Knight\", \"students\", \"professors\", \"parties\"}\n",
    "\n",
    "IUthings"
   ]
  },
  {
   "cell_type": "code",
   "execution_count": null,
   "metadata": {},
   "outputs": [],
   "source": [
    "Purduethings"
   ]
  },
  {
   "cell_type": "code",
   "execution_count": null,
   "metadata": {},
   "outputs": [],
   "source": [
    "Purduethings.union(IUthings)"
   ]
  },
  {
   "cell_type": "code",
   "execution_count": null,
   "metadata": {},
   "outputs": [],
   "source": [
    "IUthings.union(Purduethings)"
   ]
  },
  {
   "cell_type": "code",
   "execution_count": null,
   "metadata": {},
   "outputs": [],
   "source": [
    "Purduethings.intersection(IUthings)"
   ]
  },
  {
   "cell_type": "code",
   "execution_count": null,
   "metadata": {},
   "outputs": [],
   "source": [
    "IUthings.difference(Purduethings)"
   ]
  },
  {
   "cell_type": "code",
   "execution_count": null,
   "metadata": {},
   "outputs": [],
   "source": [
    "Purduethings.difference(IUthings)"
   ]
  },
  {
   "cell_type": "markdown",
   "metadata": {},
   "source": [
    "### D. <u>Dictionaries</u> are unordered, changeable, and indexed. Written with \"{}\" but made up of key-value pairs. \n",
    "\n",
    "A **key-value pair** is a pair of strings separated by a colon. Different key-value pairs are separated by commas. It looks like `{\"key1\": \"value1\", \"key2: \"value2\"}`."
   ]
  },
  {
   "cell_type": "code",
   "execution_count": null,
   "metadata": {},
   "outputs": [],
   "source": [
    "# Make some dictionaries of farm equipment.\n",
    "OldCombine = {\"brand\": \"CASE\", \"model\": \"7130\", \"year\": 2014}\n",
    "NewCombine = {\"brand\": \"CASE\", \"model\": \"8240\", \"year\": 2016}\n",
    "Tractor1 = {\"brand\": \"CASE\", \"model\": \"290\", \"year\": 2013}\n",
    "Pickup = {\"brand\": \"CHEVY\", \"model\": \"Silverado\", \"year\": 2005}\n",
    "FavoriteOldCombineEver = {\"brand\": \"JD\", \"model\": \"7720\", \"year\": 1978, \"color\": \"green\"}"
   ]
  },
  {
   "cell_type": "code",
   "execution_count": null,
   "metadata": {},
   "outputs": [],
   "source": [
    "print(type(FavoriteOldCombineEver))\n",
    "print()\n",
    "print(FavoriteOldCombineEver)"
   ]
  },
  {
   "cell_type": "markdown",
   "metadata": {},
   "source": [
    "**Note:** Dictionaries can contain dictionaries."
   ]
  },
  {
   "cell_type": "code",
   "execution_count": null,
   "metadata": {},
   "outputs": [],
   "source": [
    "# Create a dictionary of farm equipment from the dictionaries of\n",
    "# individual machines.\n",
    "\n",
    "FarmEquipment = {\"C1\": OldCombine, \"C2\": NewCombine, \"T1\": Tractor1, \"P1\": Pickup, \"C3\": FavoriteOldCombineEver}"
   ]
  },
  {
   "cell_type": "code",
   "execution_count": null,
   "metadata": {},
   "outputs": [],
   "source": [
    "FarmEquipment"
   ]
  },
  {
   "cell_type": "markdown",
   "metadata": {},
   "source": [
    "## 7. Operators"
   ]
  },
  {
   "cell_type": "markdown",
   "metadata": {},
   "source": [
    "### Arithmetic operators: +, -, *, /, %, **"
   ]
  },
  {
   "cell_type": "code",
   "execution_count": null,
   "metadata": {},
   "outputs": [],
   "source": [
    "# addition\n",
    "\n",
    "7 + 5"
   ]
  },
  {
   "cell_type": "code",
   "execution_count": null,
   "metadata": {},
   "outputs": [],
   "source": [
    "# subtraction\n",
    "\n",
    "7 - 5"
   ]
  },
  {
   "cell_type": "code",
   "execution_count": null,
   "metadata": {},
   "outputs": [],
   "source": [
    "# multiplication\n",
    "\n",
    "7 * 5"
   ]
  },
  {
   "cell_type": "code",
   "execution_count": null,
   "metadata": {},
   "outputs": [],
   "source": [
    "# division\n",
    "\n",
    "7 / 5\n",
    "\n",
    "# division"
   ]
  },
  {
   "cell_type": "code",
   "execution_count": null,
   "metadata": {},
   "outputs": [],
   "source": [
    "# remainder upon integer division\n",
    "\n",
    "7 % 5"
   ]
  },
  {
   "cell_type": "code",
   "execution_count": null,
   "metadata": {},
   "outputs": [],
   "source": [
    "# exponentiation\n",
    "\n",
    "7 ** 5"
   ]
  },
  {
   "cell_type": "markdown",
   "metadata": {},
   "source": [
    "### Assignment operators: =, +=, -=, *=, /=, **="
   ]
  },
  {
   "cell_type": "code",
   "execution_count": null,
   "metadata": {},
   "outputs": [],
   "source": [
    "# Assignment operators: =, +=, -=, *=, /=, **=\n",
    "\n",
    "b = 5\n",
    "a = b\n",
    "print(a)"
   ]
  },
  {
   "cell_type": "code",
   "execution_count": null,
   "metadata": {},
   "outputs": [],
   "source": [
    "a += b # shorthand for a = a + b\n",
    "print(a)"
   ]
  },
  {
   "cell_type": "code",
   "execution_count": null,
   "metadata": {},
   "outputs": [],
   "source": [
    "a -= b # shorthand for a = a - b\n",
    "print(a)"
   ]
  },
  {
   "cell_type": "code",
   "execution_count": null,
   "metadata": {},
   "outputs": [],
   "source": [
    "a *= b # shorthand for a = a*b\n",
    "print(a)"
   ]
  },
  {
   "cell_type": "code",
   "execution_count": null,
   "metadata": {},
   "outputs": [],
   "source": [
    "a /= b # shorthand for a = a/b\n",
    "print(a)"
   ]
  },
  {
   "cell_type": "code",
   "execution_count": null,
   "metadata": {},
   "outputs": [],
   "source": [
    "a **= b # shorthand for a = a**b\n",
    "print(a)"
   ]
  },
  {
   "cell_type": "markdown",
   "metadata": {},
   "source": [
    "### Comparison operators: ==, !=, <, <=, >, >="
   ]
  },
  {
   "cell_type": "code",
   "execution_count": null,
   "metadata": {},
   "outputs": [],
   "source": [
    "# Comparison operators: ==, !=, <, <=, >, >=\n",
    "\n",
    "a = 3\n",
    "b = 2"
   ]
  },
  {
   "cell_type": "code",
   "execution_count": null,
   "metadata": {},
   "outputs": [],
   "source": [
    "a == b"
   ]
  },
  {
   "cell_type": "code",
   "execution_count": null,
   "metadata": {},
   "outputs": [],
   "source": [
    "a != b"
   ]
  },
  {
   "cell_type": "code",
   "execution_count": null,
   "metadata": {},
   "outputs": [],
   "source": [
    "a < b"
   ]
  },
  {
   "cell_type": "code",
   "execution_count": null,
   "metadata": {},
   "outputs": [],
   "source": [
    "a <= b"
   ]
  },
  {
   "cell_type": "code",
   "execution_count": null,
   "metadata": {},
   "outputs": [],
   "source": [
    "a > b"
   ]
  },
  {
   "cell_type": "code",
   "execution_count": null,
   "metadata": {},
   "outputs": [],
   "source": [
    "a >= b"
   ]
  },
  {
   "cell_type": "markdown",
   "metadata": {},
   "source": [
    "### Logical operators: and, or, not"
   ]
  },
  {
   "cell_type": "code",
   "execution_count": null,
   "metadata": {},
   "outputs": [],
   "source": [
    "# Just to recall the values set above ...\n",
    "\n",
    "print('a equals ...')\n",
    "print(a)\n",
    "print()\n",
    "print('b equals ...')\n",
    "print(b)"
   ]
  },
  {
   "cell_type": "code",
   "execution_count": null,
   "metadata": {},
   "outputs": [],
   "source": [
    "# Logical operators: and, or, not\n",
    "\n",
    "x = (a == b) # The expression a == b it a Boolean value (either True or False).\n",
    "             # The assignment creates a Boolean variable x\n",
    "print(type(x))\n",
    "print(x)"
   ]
  },
  {
   "cell_type": "code",
   "execution_count": null,
   "metadata": {},
   "outputs": [],
   "source": [
    "y = not(x)\n",
    "print(type(y))\n",
    "print(y)"
   ]
  },
  {
   "cell_type": "code",
   "execution_count": null,
   "metadata": {},
   "outputs": [],
   "source": [
    "z = True\n",
    "\n",
    "print(x or z)\n",
    "print(x and z)"
   ]
  },
  {
   "cell_type": "markdown",
   "metadata": {},
   "source": [
    "## 8. Control statements\n",
    "There are three methods of program control that we consider here:\n",
    "1. If/else statement\n",
    "2. For loops\n",
    "3. While loops"
   ]
  },
  {
   "cell_type": "code",
   "execution_count": null,
   "metadata": {},
   "outputs": [],
   "source": [
    "# Example if/else statement\n",
    "\n",
    "a = 2;\n",
    "b = 3;\n",
    "if b > a:\n",
    "    print(\"b is greater than a\")\n",
    "elif a == b:\n",
    "    print(\"a and b are equal\")\n",
    "else:\n",
    "    print(\"a is greater than b\")"
   ]
  },
  {
   "cell_type": "code",
   "execution_count": null,
   "metadata": {},
   "outputs": [],
   "source": [
    "# While loop: Execute while condition is true.\n",
    "\n",
    "i = 1\n",
    "while i < 6:\n",
    "    print(i)\n",
    "    i += 1"
   ]
  },
  {
   "cell_type": "code",
   "execution_count": null,
   "metadata": {},
   "outputs": [],
   "source": [
    "# For loop: Iterate over a sequence. Also, have break (stop a loop where it is \n",
    "# and exit) and continue (move to the next iteration of loop).\n",
    "\n",
    "for x in \"banana\":\n",
    "    print(x)"
   ]
  },
  {
   "cell_type": "code",
   "execution_count": null,
   "metadata": {},
   "outputs": [],
   "source": [
    "# Try the continue command\n",
    "\n",
    "for x in \"banana\":\n",
    "    if x == \"n\":\n",
    "        continue\n",
    "    print(x)"
   ]
  },
  {
   "cell_type": "code",
   "execution_count": null,
   "metadata": {},
   "outputs": [],
   "source": [
    "# Try the break command\n",
    "\n",
    "for x in \"banana\":\n",
    "    if x == \"n\":\n",
    "        break\n",
    "    print(x)"
   ]
  },
  {
   "cell_type": "code",
   "execution_count": null,
   "metadata": {},
   "outputs": [],
   "source": []
  },
  {
   "cell_type": "markdown",
   "metadata": {},
   "source": [
    "## 9. Exercise: Set up Github\n",
    "\n",
    "### Yang Wang on signing up for Github ...\n",
    "\n",
    "<a href=\"https://www.youtube.com/watch?v=ZhHDfZ-l7ZU\" target=\"_blank\">Sign Up for Github</a>\n",
    "\n",
    "### Yang Wang on ...\n",
    "\n",
    "<a href=\"https://www.youtube.com/watch?v=ZB9VgHFqqXU\" target=\"_blank\">Fork a Github Repository</a>\n",
    "\n",
    "<a href=\"https://www.youtube.com/watch?v=nT1NPCyTtyo\" target=\"_blank\">Commit Changes to a Github Repository</a>\n",
    "\n",
    "### Now you should:\n",
    "\n",
    "1. Create your own Github account if you do not already have one. Assuming you are wanting to keep this account after this summer, I would use an email that you will have for the long run.\n",
    "2. Fork the repo `jvkrogmeier/REEU23`\n",
    "3. Click on the mybinder link to run a version of the code.\n",
    "4. Experiment with the code for `Lect-1a`"
   ]
  },
  {
   "cell_type": "code",
   "execution_count": null,
   "metadata": {},
   "outputs": [],
   "source": []
  },
  {
   "cell_type": "markdown",
   "metadata": {},
   "source": [
    "## 10. Functions\n",
    "   \n",
    "Function are blocks of code that run when called. \n",
    "\n",
    "- Can pass parameters to a function. \n",
    "- A function can return a value.\n",
    "\n",
    "Functions allow code to be more readable by allowing the hiding of details of an operation that may not be central to the understanding of the overall algorithm. Sometimes, this is called encapsulation. For example, perhaps we want to solve some sort of geometric problem, such as finding the height of a tree from the angle of the sun and the length of the shadow cast on the ground. The height calculation will involve intermediate calculations of trigonometric functions of the angle (e.g., sine, cosine, tangent). These sorts of intermediate calculations are naturally left to functions in python and other programming languages.\n",
    "\n",
    "In addition, functions ...\n",
    "\n",
    "- Assist in divide and conquer problem solving.\n",
    "- Allow to reuse the function code in other parts of a larger program."
   ]
  },
  {
   "cell_type": "code",
   "execution_count": null,
   "metadata": {},
   "outputs": [],
   "source": [
    "# Functions start with a definition line ...\n",
    "\n",
    "def Add5(a):          # This defines the name and fact that we pass a parameter \"a\"\n",
    "    return a + 5      # This line \"adds 5\" and returns a value. The body of the function is delimited by the\n",
    "                      # spaces (automatically inserted by the Jupiter notebook in this case)"
   ]
  },
  {
   "cell_type": "code",
   "execution_count": null,
   "metadata": {},
   "outputs": [],
   "source": [
    "# Test it ...\n",
    "Add5(1)"
   ]
  },
  {
   "cell_type": "code",
   "execution_count": null,
   "metadata": {},
   "outputs": [],
   "source": [
    "# What about this ... ?\n",
    "Add5(\"one\")"
   ]
  },
  {
   "cell_type": "code",
   "execution_count": null,
   "metadata": {},
   "outputs": [],
   "source": [
    "Add5(1.2)"
   ]
  },
  {
   "cell_type": "code",
   "execution_count": null,
   "metadata": {},
   "outputs": [],
   "source": [
    "# Can have more than one parameter ...\n",
    "\n",
    "def JVKAdd(a,b):\n",
    "    x = a + b\n",
    "    return x"
   ]
  },
  {
   "cell_type": "code",
   "execution_count": null,
   "metadata": {},
   "outputs": [],
   "source": [
    "JVKAdd(2,3)"
   ]
  },
  {
   "cell_type": "code",
   "execution_count": null,
   "metadata": {},
   "outputs": [],
   "source": [
    "# It is not required to pass a parameter ...\n",
    "\n",
    "def JustSayHi():\n",
    "    print(\"Hi\")"
   ]
  },
  {
   "cell_type": "code",
   "execution_count": null,
   "metadata": {},
   "outputs": [],
   "source": [
    "JustSayHi()"
   ]
  },
  {
   "cell_type": "code",
   "execution_count": null,
   "metadata": {},
   "outputs": [],
   "source": []
  },
  {
   "cell_type": "markdown",
   "metadata": {},
   "source": [
    "### A Useful Function Example\n",
    "\n",
    "According to wikipedia this algorithm goes back to the Babylonians (100 AD) and is widely used for computing square roots by hand. The idea is this. If we want to find the square root of a positive number, say $Z$, we first start with a guess $x$ hoping $x^2 \\approx Z$. \n",
    "\n",
    "Now if the original guess is **too large,** i.e., $x^2 > Z$ then $x > Z/x$ and so we could move in the correct direction (towards smaller values of $x$) by making a new guess equal to the average of $x$ and $Z/x$, i.e.,\n",
    "\n",
    "New guess = $(x + Z/x)/2$.\n",
    "\n",
    "If, on the other hand, the original quess was **too small,** i.e., $x^2 < Z$ then $x < Z/x$ and using the above formula for the new guess would move in the correct direction of larger values. The algorithm is implemented in python in the function code below.\n",
    "\n",
    "### Hand calculation example ...\n",
    "\n",
    "Say Z = 10 and guess x = 3 for the square root. Then the next guess is the average of 3 and 3.3333..., which is approximately 3.16666... The next step in the algorithm gives an estimate of\n",
    "\n",
    "3.1622\n",
    "\n",
    "### Brute force coding of the hand calculation example"
   ]
  },
  {
   "cell_type": "code",
   "execution_count": null,
   "metadata": {},
   "outputs": [],
   "source": [
    "Z = 10; # Want the square root of this number.\n",
    "K = 5;  # Number of iterations to try\n",
    "Guess = 3; # Initial guess of the square root of Z\n",
    "\n",
    "i = 1\n",
    "RootZ = Guess;\n",
    "\n",
    "while i <= K:\n",
    "    NewRootZ = (RootZ + Z/RootZ)/2;\n",
    "    RootZ = NewRootZ;\n",
    "    i = i + 1\n",
    "    print(RootZ)\n"
   ]
  },
  {
   "cell_type": "markdown",
   "metadata": {},
   "source": [
    "### Play around with the numbers above ..."
   ]
  },
  {
   "cell_type": "code",
   "execution_count": null,
   "metadata": {},
   "outputs": [],
   "source": []
  },
  {
   "cell_type": "markdown",
   "metadata": {},
   "source": [
    "## 11. Exercise: Implementation of the Babylonian Algorithm for the Square Root\n",
    "\n",
    "Write a function which encapsulates the example code given above. The inputs to the function should be:\n",
    "\n",
    "* A positive number whose square root is desired\n",
    "* An initial guess as to the value of the square root\n",
    "* The number of iterations to try\n"
   ]
  },
  {
   "cell_type": "code",
   "execution_count": null,
   "metadata": {},
   "outputs": [],
   "source": []
  },
  {
   "cell_type": "code",
   "execution_count": null,
   "metadata": {},
   "outputs": [],
   "source": []
  },
  {
   "cell_type": "code",
   "execution_count": null,
   "metadata": {},
   "outputs": [],
   "source": []
  },
  {
   "cell_type": "code",
   "execution_count": null,
   "metadata": {},
   "outputs": [],
   "source": []
  },
  {
   "cell_type": "code",
   "execution_count": null,
   "metadata": {},
   "outputs": [],
   "source": []
  }
 ],
 "metadata": {
  "kernelspec": {
   "display_name": "Python 3",
   "language": "python",
   "name": "python3"
  },
  "language_info": {
   "codemirror_mode": {
    "name": "ipython",
    "version": 3
   },
   "file_extension": ".py",
   "mimetype": "text/x-python",
   "name": "python",
   "nbconvert_exporter": "python",
   "pygments_lexer": "ipython3",
   "version": "3.8.8"
  }
 },
 "nbformat": 4,
 "nbformat_minor": 2
}
